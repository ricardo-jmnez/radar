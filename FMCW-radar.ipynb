{
 "cells": [
  {
   "cell_type": "code",
   "execution_count": 1,
   "metadata": {
    "collapsed": true
   },
   "outputs": [],
   "source": [
    "# Dependencies, stuff for numerics, etc in case using Python \n",
    "#from IPython.display import Image"
   ]
  },
  {
   "cell_type": "markdown",
   "metadata": {},
   "source": [
    "# Frequency-modulated continuous-wave radar a brief tutorial \n",
    "*Prepared by Ricardo Jimenez Martinez* \n",
    "April 30, 2017.  \n",
    "\n",
    "Radio-detection and ranging, widely known as *radar*, is one of the most outstanding developments of applied physics in the 20th century. Of the many radar techniques, *frequency-modulated continous-wave* (FMCW) radar is of particular interest in the rapidly evolving fields of self-driving vehicles, advanced driving assistance systems (ADAS), and contactless computer-human interfaces, to name but a few of the tons of applications of the technique. \n",
    "\n",
    "The purpose of this brief tutorial is to introduce the basics of the technique, terminology, and design parameters, with a focus on signal processing. The tutorial does not cover details related with hardware implementation nor with the important aspect of signal-to-noise ratio and detection theory.     \n",
    "\n",
    "\n"
   ]
  },
  {
   "cell_type": "markdown",
   "metadata": {},
   "source": [
    "## The basics of radar\n",
    "\n",
    " The basic working mechanism of radar is depicted in the figure below. An oscillator emmits electromagnetic (EM) waves of a known frequency. The waves can be either pulsed or continuous. These EM waves are reflected from a target, travel back to the location of the oscillator, and are detected with a collocated receiver. By measuring the time interval (also known as time of flight) between emmition and detection events the distance (also known as range) of the target from the emitter can be estimated. \n",
    "\\begin{align}\n",
    "t_0 = \\frac{2R}{c} ~~~~(1)\n",
    "\\end{align}\n",
    "\n",
    "If the object is moving it is also possible to estimate its velocity via the Doppler effect. \n",
    "\n",
    "![Image r1comment1](FMCW_ADAS_1.png)\n",
    "\n"
   ]
  },
  {
   "cell_type": "markdown",
   "metadata": {},
   "source": [
    "## Frequency-modulated continuous-wave (FMCW) radar\n",
    "\n",
    "In FMCW-radar modulation of the EM wave's carrier frequency and phase-sensitive detection of the received signal enable the estimation of both the range and velocity of the target relative to the emitter. The key in FMCW-radar consists in mapping range and velocity of the target to frequency deviations of the detected EM wave $f_D$ *relative* to the frequency of the transmitted EM wave $f_T$: $\\Delta f= f_D - f_T$. These deviations are measured in the *beat frequency* $f_b$ resulting by mixing the received signal with a copy of the transmitted wave, i.e. phase-sensitive detection, dechirping process, homodyne detection, etc., etc.  \n",
    "\n",
    "To appreciate the technique consider the case where the carrier frequency is modulated through a ramp-up waveform at a repetion frequency $f_r = 1/T_r$ (see blue line in the figure below) and sweep bandwidth $B$. As a result the phase of the transmitted wave, within the *n*-th pulse, is then  \n",
    "\n",
    "\\begin{equation}\n",
    "    \\phi_T(t) = f_ct_n + \\frac{Bf_r}{2}(t - nT_r/2)^2, ~~~~(2)\n",
    "\\end{equation}\n",
    "\n",
    "where $-(2n-1)T_r/2 \\ge t \\le (2n+1)T_r/2$. The phase of the received wave is given by \n",
    "\n",
    "\\begin{equation}\n",
    "    \\phi_R(t) = f_c(t_n - t_0) + \\frac{Bf_r}{2}(t - nT_r/2 - t_0)^2 ~~~~(3). \n",
    "\\end{equation}\n",
    "\n",
    "The frequencies of the transmitted and received wave, $f_T(t) = \\frac{d}{dt}\\phi_T(t) $ and $f_D(t) = \\frac{d}{dt}\\phi_R(t)$ respectively, are described by the blue and red lines the figure below.\n",
    "\n",
    "<img src=\"frequency_diagram.png\" alt=\"Drawing\" style=\"width: 600px;\"/>\n",
    "\n",
    "We can observe that by the time the reflected EM wave is detected the frequency of the transmitted EM wave has changed. The amount of frequency shift is proportional to the time of flight $t_0$ and the sweep bandwdith $B$, $\\Delta f \\propto 2Bf_rR/c$. In addition, via the Doppler effect the frequency of the reflected EM wave is shifted by $2v/cf_T$ with respect the transmitted wave. It can be shown that for  practical purposes (Science, vol. 198, pp. 138-144, 1977) the main contribution of these two effects to the frequency shift is given by \n",
    "\n",
    "\\begin{equation}\n",
    "    f_b = \\Delta f = \\frac{2Bf_rR}{c} +  \\frac{2\\mathrm{v}}{c}f_c, ~~~~~(4)\n",
    "\\end{equation}\n",
    "\n",
    "where the first and second terms are due to the time of flight and Doppler effect, respectively.\n",
    "\n",
    "By performing a FFT of the dechirped signal the beat frequency can be estimated. This process usually requires performing a double FFT. First within each pulse, then a second FFT across all individual FFTs. "
   ]
  },
  {
   "cell_type": "markdown",
   "metadata": {},
   "source": [
    "## Metrics \n",
    "** Range resolution ** corresponds to the minimum physical separation between two distinguishable targets that can be resolved by the radar. The frequency resolution along the FFT fast axis is given by $\\Delta f_b = 1/T_r$, thus the range resolution:\n",
    "\n",
    "\\begin{align}\n",
    "      \\left(\\Delta R\\right)_{min} = \\frac{c}{2B} ~~~~(5)\n",
    "\\end{align}\n",
    "\n",
    "** Doppler resolution ** corresponds to the minimum target speed that can be resolved by the radar. The frequency resolution along the FFT slow axis is $\\Delta f_b = 1/(NT_r)$, where $N$ is teh number of pulses analyzed, thus the Doppler resolution: \n",
    "\n",
    "\\begin{align}\n",
    "      \\left(\\Delta \\mathrm{v}\\right)_{min} = \\frac{c}{2NT_rf_c} ~~~~(6)\n",
    "\\end{align}\n",
    "\n",
    "** Unambiguous range and Doppler (i.e. Nyquist frequency limit)** corresponds to the maximum range and speed that can be resolved without aliasing. \n",
    "\n",
    "\\begin{align}\n",
    "      \\left(\\Delta R\\right)_{max} = \\frac{cT_r}{2} ~~~~(7)\n",
    "\\end{align}\n",
    "\n",
    "\\begin{align}\n",
    "      \\left(\\Delta \\mathrm{v}\\right)_{max} = \\frac{c}{2T_rf_c} ~~~~(8)\n",
    "\\end{align}"
   ]
  },
  {
   "cell_type": "markdown",
   "metadata": {},
   "source": [
    "## Further reading\n",
    "\n",
    "1. FMCW radar signals and digital processing [by Donald Barrick formerly of NOAA](http://www.codar.com/images/about/1973Barrick_FMCW.pdf)\n",
    "\n",
    "2. Adaptive cruise control using FMCW radar [by the Mathworks](https://es.mathworks.com/help/mpc/examples/design-an-adaptive-cruise-control-system-using-model-predictive-control.html)\n",
    "\n",
    "3. Soli: Ubiquitous Gesture Sensing with Millimeter Wave Radar [by Jamie Lien et al. at Google Advanced Technology and Projects](http://dl.acm.org/citation.cfm?id=2925953) \n",
    "\n",
    "4. Short-Range FMCW Monopulse Radar for Hand-Gesture Sensing [by Pavlo Molchanov et al. at NVIDIA](https://research.nvidia.com/publication/short-range-fmcw-monopulse-radar-hand-gesture-sensing) "
   ]
  },
  {
   "cell_type": "markdown",
   "metadata": {},
   "source": [
    "**How Soli reaches sub-mm range resolution** from Soli: Ubiquitous Gesture Sensing with Millimeter Wave Radar [by Jamie Lien et al. at Google Advanced Technology and Projects](http://dl.acm.org/citation.cfm?id=2925953) \n",
    "![Image r1comment1](high_res.png)\n"
   ]
  },
  {
   "cell_type": "markdown",
   "metadata": {},
   "source": [
    "![Image r1comment1](radar-visualisation-loop.gif)"
   ]
  }
 ],
 "metadata": {
  "anaconda-cloud": {},
  "kernelspec": {
   "display_name": "Python [default]",
   "language": "python",
   "name": "python3"
  },
  "language_info": {
   "codemirror_mode": {
    "name": "ipython",
    "version": 3
   },
   "file_extension": ".py",
   "mimetype": "text/x-python",
   "name": "python",
   "nbconvert_exporter": "python",
   "pygments_lexer": "ipython3",
   "version": "3.5.2"
  }
 },
 "nbformat": 4,
 "nbformat_minor": 1
}
